{
 "cells": [
  {
   "cell_type": "code",
   "execution_count": 1,
   "metadata": {
    "collapsed": true
   },
   "outputs": [],
   "source": [
    "import pymongo\n",
    "client = pymongo.MongoClient('mongodb://localhost:27017/')\n",
    "jobs_db = client['jobs']\n",
    "table = jobs_db['extracted jobs wnh']"
   ]
  },
  {
   "cell_type": "code",
   "execution_count": 2,
   "metadata": {},
   "outputs": [
    {
     "name": "stdout",
     "output_type": "stream",
     "text": [
      "{'skills': 'ocial Media Marketing, Marketing Strategy, Marketing, Internet Marketing, Advertising', 'title': 'FB likes and Linkedin page follower wanted', 'location': '/WorkProjects/ProjectDetail/FB-likes-and-Linkedin-page-follower-wanted/81517', 'date posted': '2017-10-02 16:59:57.993794', 'details': \"hello,\\r\\n\\r\\nWe need 10K likes on our facebook page and 10K follower on Linkedin page.\\r\\n\\r\\nBid here with your pricing, I'll consider lowest one.\\r\\n\\r\\ngenuine or fake doesn't matter. I need quantity, not quality\", '_id': ObjectId('59d22335593f980e1da549c8')}\n"
     ]
    }
   ],
   "source": [
    "all_data = list(table.find())\n",
    "print(all_data[-1])"
   ]
  },
  {
   "cell_type": "code",
   "execution_count": 3,
   "metadata": {},
   "outputs": [],
   "source": [
    "import re\n",
    "import operator\n",
    "\n",
    "\n",
    "def is_number(s):\n",
    "    try:\n",
    "        float(s) if '.' in s else int(s)\n",
    "        return True\n",
    "    except ValueError:\n",
    "        return False\n",
    "\n",
    "\n",
    "def load_stop_words(stop_word_file):\n",
    "    \"\"\"\n",
    "    Utility function to load stop words from a file and return as a list of words\n",
    "    @param stop_word_file Path and file name of a file containing stop words.\n",
    "    @return list A list of stop words.\n",
    "    \"\"\"\n",
    "    stop_words = []\n",
    "    for line in open(stop_word_file):\n",
    "        if line.strip()[0:1] != \"#\":\n",
    "            for word in line.split():  # in case more than one per line\n",
    "                stop_words.append(word)\n",
    "    return stop_words\n",
    "\n",
    "\n",
    "def separate_words(text, min_word_return_size):\n",
    "    \"\"\"\n",
    "    Utility function to return a list of all words that are have a length greater than a specified number of characters.\n",
    "    @param text The text that must be split in to words.\n",
    "    @param min_word_return_size The minimum no of characters a word must have to be included.\n",
    "    \"\"\"\n",
    "    splitter = re.compile('[^a-zA-Z0-9_\\\\+\\\\-/]')\n",
    "    words = []\n",
    "    for single_word in splitter.split(text):\n",
    "        current_word = single_word.strip().lower()\n",
    "        # leave numbers in phrase, but don't count as words, since they tend to invalidate scores of their phrases\n",
    "        if len(current_word) > min_word_return_size and current_word != '' and not is_number(current_word):\n",
    "            words.append(current_word)\n",
    "    return words\n",
    "\n",
    "\n",
    "def split_sentences(text):\n",
    "    \"\"\"\n",
    "    Utility function to return a list of sentences.\n",
    "    @param text The text that must be split in to sentences.\n",
    "    \"\"\"\n",
    "    sentence_delimiters = re.compile(u'[.!?,;:\\t\\\\\\\\\"\\\\(\\\\)\\\\\\'\\u2019\\u2013]|\\\\s\\\\-\\\\s')\n",
    "    sentences = sentence_delimiters.split(text)\n",
    "    return sentences\n",
    "\n",
    "\n",
    "def build_stop_word_regex(stop_word_file_path):\n",
    "    stop_word_list = load_stop_words(stop_word_file_path)\n",
    "    stop_word_regex_list = []\n",
    "    for word in stop_word_list:\n",
    "        word_regex = r'\\b' + word + r'(?![\\w-])'\n",
    "        stop_word_regex_list.append(word_regex)\n",
    "    stop_word_pattern = re.compile('|'.join(stop_word_regex_list), re.IGNORECASE)\n",
    "    return stop_word_pattern\n",
    "\n",
    "\n",
    "def generate_candidate_keywords(sentence_list, stopword_pattern):\n",
    "    phrase_list = []\n",
    "    for s in sentence_list:\n",
    "        tmp = re.sub(stopword_pattern, '|', s.strip())\n",
    "        phrases = tmp.split(\"|\")\n",
    "        for phrase in phrases:\n",
    "            phrase = phrase.strip().lower()\n",
    "            if phrase != \"\":\n",
    "                phrase_list.append(phrase)\n",
    "    return phrase_list\n",
    "\n",
    "\n",
    "def calculate_word_scores(phraseList):\n",
    "    word_frequency = {}\n",
    "    word_degree = {}\n",
    "    for phrase in phraseList:\n",
    "        word_list = separate_words(phrase, 0)\n",
    "        word_list_length = len(word_list)\n",
    "        word_list_degree = word_list_length - 1\n",
    "        for word in word_list:\n",
    "            word_frequency.setdefault(word, 0)\n",
    "            word_frequency[word] += 1\n",
    "            word_degree.setdefault(word, 0)\n",
    "            word_degree[word] += word_list_degree\n",
    "    for item in word_frequency:\n",
    "        word_degree[item] = word_degree[item] + word_frequency[item]\n",
    "\n",
    "    # Calculate Word scores = deg(w)/frew(w)\n",
    "    word_score = {}\n",
    "    for item in word_frequency:\n",
    "        word_score.setdefault(item, 0)\n",
    "        word_score[item] = word_degree[item] / (word_frequency[item] * 1.0)\n",
    "    return word_score\n",
    "\n",
    "\n",
    "def generate_candidate_keyword_scores(phrase_list, word_score):\n",
    "    keyword_candidates = {}\n",
    "    for phrase in phrase_list:\n",
    "        keyword_candidates.setdefault(phrase, 0)\n",
    "        word_list = separate_words(phrase, 0)\n",
    "        candidate_score = 0\n",
    "        for word in word_list:\n",
    "            candidate_score += word_score[word]\n",
    "        keyword_candidates[phrase] = candidate_score\n",
    "    return keyword_candidates\n",
    "\n",
    "\n",
    "class Rake(object):\n",
    "    def __init__(self, stop_words_path):\n",
    "        self.stop_words_path = stop_words_path\n",
    "        self.__stop_words_pattern = build_stop_word_regex(stop_words_path)\n",
    "\n",
    "    def run(self, text):\n",
    "        sentence_list = split_sentences(text)\n",
    "\n",
    "        phrase_list = generate_candidate_keywords(sentence_list, self.__stop_words_pattern)\n",
    "\n",
    "        word_scores = calculate_word_scores(phrase_list)\n",
    "\n",
    "        keyword_candidates = generate_candidate_keyword_scores(phrase_list, word_scores)\n",
    "\n",
    "        sorted_keywords = sorted(keyword_candidates.items(), key=operator.itemgetter(1), reverse=True)\n",
    "        return sorted_keywords"
   ]
  },
  {
   "cell_type": "code",
   "execution_count": 8,
   "metadata": {},
   "outputs": [],
   "source": [
    "import os\n",
    "v = Rake(os.getcwd()+'/analytics/Stop_list.txt')"
   ]
  },
  {
   "cell_type": "code",
   "execution_count": 9,
   "metadata": {},
   "outputs": [
    {
     "data": {
      "text/plain": [
       "[('10k follower', 4.0),\n ('fake doesn', 4.0),\n ('10k likes', 4.0),\n ('facebook page', 4.0),\n ('linkedin page', 4.0),\n ('lowest', 1.0),\n ('quantity', 1.0),\n ('ll', 1.0),\n ('genuine', 1.0),\n ('quality', 1.0),\n ('pricing', 1.0),\n ('bid', 1.0),\n ('matter', 1.0)]"
      ]
     },
     "execution_count": 9,
     "metadata": {},
     "output_type": "execute_result"
    }
   ],
   "source": [
    "v.run(all_data[-1]['details'])"
   ]
  },
  {
   "cell_type": "code",
   "execution_count": 10,
   "metadata": {},
   "outputs": [
    {
     "name": "stdout",
     "output_type": "stream",
     "text": [
      "[('fact\\r\\r-------------------------------------------------------------------------------\\radditional information added', 23.0), ('-------------------------------------------------------------------------------\\radditional information added', 18.0), ('perform simple google image search', 17.2), ('shopping malls\\r\\n\\r\\nfact2', 9.0), ('facts related images', 7.1)]\n"
     ]
    },
    {
     "name": "stdout",
     "output_type": "stream",
     "text": [
      "[('specific phone number saved', 14.0), ('phone number mailtofawadatgmaildotcom', 10.0), ('add google add', 9.0), ('specific devices', 5.0), ('contact list', 4.0)]\n"
     ]
    },
    {
     "name": "stdout",
     "output_type": "stream",
     "text": [
      "[('suggestion needed', 4.0), ('youtube video', 3.5), ('upload videos', 3.5), ('youtube', 1.5), ('videos', 1.5)]\n"
     ]
    },
    {
     "name": "stdout",
     "output_type": "stream",
     "text": [
      "[('needa android app', 8.5), ('online payment', 4.0), ('cod option', 4.0), ('grofers app', 4.0), ('grofers', 1.5)]\n"
     ]
    },
    {
     "name": "stdout",
     "output_type": "stream",
     "text": [
      "[('2017\\r\\rpart time jobs-simple online jobs', 19.277777777777775), ('-------------------------------------------------------------------------------\\radditional information added', 16.0), ('offer genuine extra income', 14.666666666666666), ('easy data entry jobs', 14.31111111111111), ('online part time jobs', 14.277777777777777)]\n"
     ]
    },
    {
     "name": "stdout",
     "output_type": "stream",
     "text": [
      "[('-------------------------------------------------------------------------------\\radditional information added', 16.0), ('simply data entry job', 13.627272727272727), ('easy data entry jobs', 13.3), ('part time home job', 13.227272727272727), ('online data entry', 9.65)]\n"
     ]
    },
    {
     "name": "stdout",
     "output_type": "stream",
     "text": [
      "[('growing real legitimate ad posting opportunities', 36.0), ('part time form filling jobs opportunities', 30.476190476190478), ('previous experience needed start earning', 25.0), ('month payment guarantee hundreds', 16.0), ('-------------------------------------------------------------------------------\\radditional information added', 16.0)]\n"
     ]
    },
    {
     "name": "stdout",
     "output_type": "stream",
     "text": [
      "[('allotted bulk government & private sector projects', 36.0), ('-------------------------------------------------------------------------------\\radditional information added', 16.0), ('simply data entry job', 13.63913043478261), ('part time home job', 13.31055900621118), ('easy data entry jobs', 12.4)]\n"
     ]
    },
    {
     "name": "stdout",
     "output_type": "stream",
     "text": [
      "[('giving pravachaan', 4.0), ('1 min approx', 4.0), ('animated video', 3.333333333333333), ('video', 1.3333333333333333), ('baba', 1.0)]\n"
     ]
    },
    {
     "name": "stdout",
     "output_type": "stream",
     "text": [
      "[('write couple', 4.0), ('past projects', 4.0), ('financial market', 4.0), ('service offering', 4.0), ('company introduction', 4.0)]\n"
     ]
    },
    {
     "name": "stdout",
     "output_type": "stream",
     "text": [
      "[('advance--\\r\\nvideo link -- https', 23.5), ('youtube policy\\r\\n\\r\\nbudget-- 1k inr/-', 23.5), ('youtube video', 7.0), ('/7312qc4wpoo\\r\\n\\r\\ninterested', 4.0), ('10k views', 4.0)]\n"
     ]
    },
    {
     "name": "stdout",
     "output_type": "stream",
     "text": [
      "[('article/ content writer required\\r\\n\\r\\nniche', 25.0), ('30 articles\\r\\nlong term work', 16.0), ('rs 89-90/ article\\r\\nmonthly', 16.0), ('400-500 words/ article\\r\\npayout', 16.0), ('email marketing\\r\\nlanguage', 8.5)]\n"
     ]
    },
    {
     "name": "stdout",
     "output_type": "stream",
     "text": [
      "[('fastest growing verticals globally', 16.0), ('won dedicated resource working', 16.0), ('boss employee culture', 9.0), ('fantasy sports startup', 9.0), ('mumbai startup venturing', 9.0)]\n"
     ]
    },
    {
     "name": "stdout",
     "output_type": "stream",
     "text": [
      "[('yellow pages', 4.0), ('web based', 4.0), ('6-7 screens', 4.0), ('skilled developer', 4.0), ('community contacts', 4.0)]\n"
     ]
    },
    {
     "name": "stdout",
     "output_type": "stream",
     "text": [
      "[('search engine marketing', 9.0), ('search engine optimization', 9.0), ('digitally grow moneymatch', 7.5), ('moneymatch reach', 4.5), ('initial quote', 4.0)]\n"
     ]
    },
    {
     "name": "stdout",
     "output_type": "stream",
     "text": [
      "[('business deck', 4.0), ('folks', 1.0), ('investors', 1.0), ('prepare', 1.0), ('pitch', 1.0)]\n"
     ]
    },
    {
     "name": "stdout",
     "output_type": "stream",
     "text": [
      "[('10k follower', 4.0), ('fake doesn', 4.0), ('10k likes', 4.0), ('facebook page', 4.0), ('linkedin page', 4.0)]\n"
     ]
    }
   ],
   "source": [
    "predicted_data = all_data[-7:-1]\n",
    "\n",
    "import time\n",
    "\n",
    "for i in all_data:\n",
    "    r = i['details']\n",
    "    predicted = v.run(r)\n",
    "    print(predicted[0:5])\n",
    "    time.sleep(9)"
   ]
  },
  {
   "cell_type": "code",
   "execution_count": 6,
   "metadata": {},
   "outputs": [
    {
     "ename": "NameError",
     "evalue": "name 'all_data' is not defined",
     "traceback": [
      "\u001b[1;31m---------------------------------------------------------------------------\u001b[0m",
      "\u001b[1;31mNameError\u001b[0m                                 Traceback (most recent call last)",
      "\u001b[1;32m<ipython-input-6-a2df52e643c3>\u001b[0m in \u001b[0;36m<module>\u001b[1;34m()\u001b[0m\n\u001b[1;32m----> 1\u001b[1;33m \u001b[0mprint\u001b[0m\u001b[1;33m(\u001b[0m\u001b[0mlen\u001b[0m\u001b[1;33m(\u001b[0m\u001b[0mall_data\u001b[0m\u001b[1;33m)\u001b[0m\u001b[1;33m)\u001b[0m\u001b[1;33m\u001b[0m\u001b[0m\n\u001b[0m",
      "\u001b[1;31mNameError\u001b[0m: name 'all_data' is not defined"
     ],
     "output_type": "error"
    }
   ],
   "source": [
    ""
   ]
  },
  {
   "cell_type": "code",
   "execution_count": 6,
   "metadata": {},
   "outputs": [
    {
     "name": "stdout",
     "output_type": "stream",
     "text": [
      "this is cleaned\n\n...\nHi, I need FreeLancer/ FullTime  Web Designer / UI designer for website and developmenet work for my software. Preferably from Hyderabad. The software is built on PHP/Codeignitor. I have to add some new  modules and change the existing design. I want the web developer to sync his ideas  on UI/Design with my PhP developer .My website is www.healthfox.com. \n\nthis is \n"
     ]
    }
   ],
   "source": [
    ""
   ]
  },
  {
   "cell_type": "code",
   "execution_count": null,
   "metadata": {},
   "outputs": [],
   "source": [
    ""
   ]
  }
 ],
 "metadata": {
  "kernelspec": {
   "display_name": "Python 2",
   "language": "python",
   "name": "python2"
  },
  "language_info": {
   "codemirror_mode": {
    "name": "ipython",
    "version": 2
   },
   "file_extension": ".py",
   "mimetype": "text/x-python",
   "name": "python",
   "nbconvert_exporter": "python",
   "pygments_lexer": "ipython2",
   "version": "2.7.6"
  }
 },
 "nbformat": 4,
 "nbformat_minor": 0
}
