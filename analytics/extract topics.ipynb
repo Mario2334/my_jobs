{
 "cells": [
  {
   "cell_type": "code",
   "execution_count": 2,
   "metadata": {
    "collapsed": true
   },
   "outputs": [],
   "source": [
    "import pymongo\n",
    "client = pymongo.MongoClient('mongodb://localhost:27017/')\n",
    "jobs_db = client['jobs']\n",
    "table = jobs_db['extracted jobs wnh']"
   ]
  },
  {
   "cell_type": "code",
   "execution_count": 3,
   "metadata": {},
   "outputs": [
    {
     "name": "stdout",
     "output_type": "stream",
     "text": [
      "{'location': '/WorkProjects/ProjectDetail/PHP-Mysql-Coders-for-Shopping-Marketplace-site-development/78622', 'title': 'PHP/Mysql Coders for Shopping - Marketplace site development', '_id': ObjectId('59a16700dc9cb52080a76632'), 'details': 'PHP/Mysql Coders for Shopping - Marketplace site development\\r\\n* Coder should be available online from 9AM to 8PM IST\\r\\n* Coder should have experience in Codeigniter framework\\r\\n* Coder should have done API integrations \\r\\n* Shopping cart development experience - preferred\\r\\n\\r\\nThe bid should be for Flat Monthly pay if work is good this may be an ongoing job. We need experienced people only and one who can dedicate this time.  We will drop any one who is doing multiple projects in our work time.\\r\\n\\r\\nA message without the Bid amount is ignored.  We will take your interview by phone or Skype so please provide both the details. Should be ready to start immediately when hired.', 'skills': '\\nSkills:\\nPHP, MySQL, CodeIgniter', 'date posted': '2017-08-26 17:48:08.050602'}\n"
     ]
    }
   ],
   "source": [
    "all_data = list(table.find())\n",
    "print(all_data[-1])"
   ]
  },
  {
   "cell_type": "code",
   "execution_count": 4,
   "metadata": {},
   "outputs": [],
   "source": [
    "import re\n",
    "import operator\n",
    "\n",
    "\n",
    "def is_number(s):\n",
    "    try:\n",
    "        float(s) if '.' in s else int(s)\n",
    "        return True\n",
    "    except ValueError:\n",
    "        return False\n",
    "\n",
    "\n",
    "def load_stop_words(stop_word_file):\n",
    "    \"\"\"\n",
    "    Utility function to load stop words from a file and return as a list of words\n",
    "    @param stop_word_file Path and file name of a file containing stop words.\n",
    "    @return list A list of stop words.\n",
    "    \"\"\"\n",
    "    stop_words = []\n",
    "    for line in open(stop_word_file):\n",
    "        if line.strip()[0:1] != \"#\":\n",
    "            for word in line.split():  # in case more than one per line\n",
    "                stop_words.append(word)\n",
    "    return stop_words\n",
    "\n",
    "\n",
    "def separate_words(text, min_word_return_size):\n",
    "    \"\"\"\n",
    "    Utility function to return a list of all words that are have a length greater than a specified number of characters.\n",
    "    @param text The text that must be split in to words.\n",
    "    @param min_word_return_size The minimum no of characters a word must have to be included.\n",
    "    \"\"\"\n",
    "    splitter = re.compile('[^a-zA-Z0-9_\\\\+\\\\-/]')\n",
    "    words = []\n",
    "    for single_word in splitter.split(text):\n",
    "        current_word = single_word.strip().lower()\n",
    "        # leave numbers in phrase, but don't count as words, since they tend to invalidate scores of their phrases\n",
    "        if len(current_word) > min_word_return_size and current_word != '' and not is_number(current_word):\n",
    "            words.append(current_word)\n",
    "    return words\n",
    "\n",
    "\n",
    "def split_sentences(text):\n",
    "    \"\"\"\n",
    "    Utility function to return a list of sentences.\n",
    "    @param text The text that must be split in to sentences.\n",
    "    \"\"\"\n",
    "    sentence_delimiters = re.compile(u'[.!?,;:\\t\\\\\\\\\"\\\\(\\\\)\\\\\\'\\u2019\\u2013]|\\\\s\\\\-\\\\s')\n",
    "    sentences = sentence_delimiters.split(text)\n",
    "    return sentences\n",
    "\n",
    "\n",
    "def build_stop_word_regex(stop_word_file_path):\n",
    "    stop_word_list = load_stop_words(stop_word_file_path)\n",
    "    stop_word_regex_list = []\n",
    "    for word in stop_word_list:\n",
    "        word_regex = r'\\b' + word + r'(?![\\w-])'\n",
    "        stop_word_regex_list.append(word_regex)\n",
    "    stop_word_pattern = re.compile('|'.join(stop_word_regex_list), re.IGNORECASE)\n",
    "    return stop_word_pattern\n",
    "\n",
    "\n",
    "def generate_candidate_keywords(sentence_list, stopword_pattern):\n",
    "    phrase_list = []\n",
    "    for s in sentence_list:\n",
    "        tmp = re.sub(stopword_pattern, '|', s.strip())\n",
    "        phrases = tmp.split(\"|\")\n",
    "        for phrase in phrases:\n",
    "            phrase = phrase.strip().lower()\n",
    "            if phrase != \"\":\n",
    "                phrase_list.append(phrase)\n",
    "    return phrase_list\n",
    "\n",
    "\n",
    "def calculate_word_scores(phraseList):\n",
    "    word_frequency = {}\n",
    "    word_degree = {}\n",
    "    for phrase in phraseList:\n",
    "        word_list = separate_words(phrase, 0)\n",
    "        word_list_length = len(word_list)\n",
    "        word_list_degree = word_list_length - 1\n",
    "        for word in word_list:\n",
    "            word_frequency.setdefault(word, 0)\n",
    "            word_frequency[word] += 1\n",
    "            word_degree.setdefault(word, 0)\n",
    "            word_degree[word] += word_list_degree\n",
    "    for item in word_frequency:\n",
    "        word_degree[item] = word_degree[item] + word_frequency[item]\n",
    "\n",
    "    # Calculate Word scores = deg(w)/frew(w)\n",
    "    word_score = {}\n",
    "    for item in word_frequency:\n",
    "        word_score.setdefault(item, 0)\n",
    "        word_score[item] = word_degree[item] / (word_frequency[item] * 1.0)\n",
    "    return word_score\n",
    "\n",
    "\n",
    "def generate_candidate_keyword_scores(phrase_list, word_score):\n",
    "    keyword_candidates = {}\n",
    "    for phrase in phrase_list:\n",
    "        keyword_candidates.setdefault(phrase, 0)\n",
    "        word_list = separate_words(phrase, 0)\n",
    "        candidate_score = 0\n",
    "        for word in word_list:\n",
    "            candidate_score += word_score[word]\n",
    "        keyword_candidates[phrase] = candidate_score\n",
    "    return keyword_candidates\n",
    "\n",
    "\n",
    "class Rake(object):\n",
    "    def __init__(self, stop_words_path):\n",
    "        self.stop_words_path = stop_words_path\n",
    "        self.__stop_words_pattern = build_stop_word_regex(stop_words_path)\n",
    "\n",
    "    def run(self, text):\n",
    "        sentence_list = split_sentences(text)\n",
    "\n",
    "        phrase_list = generate_candidate_keywords(sentence_list, self.__stop_words_pattern)\n",
    "\n",
    "        word_scores = calculate_word_scores(phrase_list)\n",
    "\n",
    "        keyword_candidates = generate_candidate_keyword_scores(phrase_list, word_scores)\n",
    "\n",
    "        sorted_keywords = sorted(keyword_candidates.items(), key=operator.itemgetter(1), reverse=True)\n",
    "        return sorted_keywords"
   ]
  },
  {
   "cell_type": "code",
   "execution_count": 5,
   "metadata": {},
   "outputs": [],
   "source": [
    "import os\n",
    "v = Rake(os.getcwd()+'\\\\analytics\\Stop_list.txt')"
   ]
  },
  {
   "cell_type": "code",
   "execution_count": 6,
   "metadata": {},
   "outputs": [
    {
     "data": {
      "text/plain": [
       "[('api integrations \\r\\n* shopping cart development experience', 30.0),\n ('marketplace site development\\r\\n* coder', 16.333333333333332),\n ('8pm ist\\r\\n* coder', 9.333333333333334),\n ('codeigniter framework\\r\\n* coder', 9.333333333333334),\n ('flat monthly pay', 9.0),\n ('start immediately', 4.0),\n ('ongoing job', 4.0),\n ('multiple projects', 4.0),\n ('php/mysql coders', 4.0),\n ('experienced people', 4.0),\n ('shopping', 3.5),\n ('bid amount', 3.5),\n ('experience', 3.5),\n ('work time', 3.0),\n ('work', 1.5),\n ('bid', 1.5),\n ('time', 1.5),\n ('online', 1.0),\n ('ready', 1.0),\n ('details', 1.0),\n ('skype', 1.0),\n ('message', 1.0),\n ('good', 1.0),\n ('dedicate', 1.0),\n ('drop', 1.0),\n ('interview', 1.0),\n ('phone', 1.0),\n ('preferred', 1.0),\n ('hired', 1.0),\n ('9am', 1.0),\n ('provide', 1.0)]"
      ]
     },
     "execution_count": 6,
     "metadata": {},
     "output_type": "execute_result"
    }
   ],
   "source": [
    "v.run(all_data[-1]['details'])"
   ]
  },
  {
   "cell_type": "code",
   "execution_count": 8,
   "metadata": {},
   "outputs": [
    {
     "name": "stdout",
     "output_type": "stream",
     "text": [
      "[('writer status', 4.0), ('short notice', 4.0), ('part timer', 4.0), ('15days basis', 4.0), ('part-time writer', 4.0)]\n"
     ]
    },
    {
     "name": "stdout",
     "output_type": "stream",
     "text": [
      "[('school erp product', 9.0), ('commission basis', 4.0), ('recurring commission', 4.0), ('guys', 1.0), ('marketing', 1.0)]\n"
     ]
    },
    {
     "name": "stdout",
     "output_type": "stream",
     "text": [
      "[('organising references', 4.0), ('presence required', 4.0), ('excel file', 4.0), ('work researching', 4.0), ('related field', 4.0)]\n"
     ]
    },
    {
     "name": "stdout",
     "output_type": "stream",
     "text": [
      "[('/affiliate/subscribe/ajax-complete-13-e-books-set-2e67b/\\r\\n\\r\\njava spring struct jsp 45 e-books set 299- inr\\r\\nhttps', 89.66666666666667), ('affiliate marketers apply\\r\\n\\r\\najax complete 13 e-books set 299- inr\\r\\nhttps', 86.16666666666667), ('/affiliate/subscribe/oracle-and-sql-32-e-books-set-d57dc/\\r\\n\\r\\nado dot net 10 e-books set 299- inr\\r\\nhttps', 75.66666666666666), ('/affiliate/subscribe/web-services-5-e-books-set-1a3b1/\\r\\n\\r\\nasp dot net 96 e-books set 499- inr\\r\\nhttps', 75.0), ('/affiliate/subscribe/c-10-e-books-set-list/\\r\\n\\r\\nweb services 5 e-books set 199- inr\\r\\nhttps', 62.0)]\n"
     ]
    },
    {
     "name": "stdout",
     "output_type": "stream",
     "text": [
      "[('/affiliate/subscribe/ajax-complete-13-e-books-set-2e67b/\\r\\n\\r\\njava spring struct jsp 45 e-books set 299- inr\\r\\nhttps', 89.66666666666667), ('affiliate marketers apply\\r\\n\\r\\najax complete 13 e-books set 299- inr\\r\\nhttps', 86.16666666666667), ('/affiliate/subscribe/oracle-and-sql-32-e-books-set-d57dc/\\r\\n\\r\\nado dot net 10 e-books set 299- inr\\r\\nhttps', 75.66666666666666), ('/affiliate/subscribe/web-services-5-e-books-set-1a3b1/\\r\\n\\r\\nasp dot net 96 e-books set 499- inr\\r\\nhttps', 75.0), ('/affiliate/subscribe/c-10-e-books-set-list/\\r\\n\\r\\nweb services 5 e-books set 199- inr\\r\\nhttps', 62.0)]\n"
     ]
    },
    {
     "name": "stdout",
     "output_type": "stream",
     "text": [
      "[('separate modules', 4.0), ('java', 1.0), ('development', 1.0)]\n"
     ]
    },
    {
     "name": "stdout",
     "output_type": "stream",
     "text": [
      "[('total number', 4.0), ('dozen sources', 4.0), ('feel free', 4.0), ('writer hired', 4.0), ('requires articles', 3.5)]\n"
     ]
    },
    {
     "name": "stdout",
     "output_type": "stream",
     "text": [
      "[('cg lighting+live', 4.0), ('model', 1.0), ('references', 1.0), ('attached', 1.0)]\n"
     ]
    },
    {
     "name": "stdout",
     "output_type": "stream",
     "text": [
      "[('citizen engagement', 4.0), ('write content', 4.0), ('dynamic flor', 4.0), ('write blogs', 4.0), ('contractual base', 4.0)]\n"
     ]
    },
    {
     "name": "stdout",
     "output_type": "stream",
     "text": [
      "[('full time female freelancers aka housewives preferred /', 64.0), ('occasional phone call', 9.0), ('document build', 4.0), ('executive assistant', 4.0), ('word *red*', 4.0)]\n"
     ]
    },
    {
     "name": "stdout",
     "output_type": "stream",
     "text": [
      "[('preferrably approx 800-1000 words', 15.5), ('travel write ups experience', 15.333333333333334), ('approx 50 odd articles', 9.5), ('decided \\r\\nlocation -', 9.0), ('travel based website', 8.833333333333334)]\n"
     ]
    },
    {
     "name": "stdout",
     "output_type": "stream",
     "text": [
      "[('launching designer indian wear clothing line', 36.0), ('dedicated fashion designers', 9.0), ('fashion merchandising start-', 9.0), ('relevant experience', 4.0), ('invite creative', 4.0)]\n"
     ]
    },
    {
     "name": "stdout",
     "output_type": "stream",
     "text": [
      "[('dst file format', 9.0), ('sketch drawing', 4.0), ('logo designer', 4.0), ('design software', 4.0), ('editing', 1.0)]\n"
     ]
    },
    {
     "name": "stdout",
     "output_type": "stream",
     "text": [
      "[('candy box tins', 9.0), ('preferably tif file', 9.0), ('product pictures', 4.0), ('dinner plates', 4.0), ('ceramic mugs', 4.0)]\n"
     ]
    },
    {
     "name": "stdout",
     "output_type": "stream",
     "text": [
      "[('led background', 4.0), ('animated background', 4.0), ('logo', 1.0), ('client', 1.0), ('20mm', 1.0)]\n"
     ]
    },
    {
     "name": "stdout",
     "output_type": "stream",
     "text": [
      "[('good internet access', 9.0), ('handle revision pressure', 8.5), ('offering quality content', 8.0), ('work pressure', 4.5), ('comfortable working', 4.0)]\n"
     ]
    },
    {
     "name": "stdout",
     "output_type": "stream",
     "text": [
      "[('3 months full time digital marketing trainee', 36.0), ('social media connections', 8.0), ('social media', 5.0), ('seo implementation\\r\\n2', 4.0), ('smo implementation\\r\\n3', 4.0)]\n"
     ]
    },
    {
     "name": "stdout",
     "output_type": "stream",
     "text": [
      "[('consulting company requiring freelancers', 16.0), ('student account\\r\\nhistory', 9.0), ('delhi ncr\\r\\n\\r\\nprefer', 9.0), ('months\\r\\npreferred area', 9.0), ('require hardware integration', 8.0)]\n"
     ]
    },
    {
     "name": "stdout",
     "output_type": "stream",
     "text": [
      "[('sourcing software projects', 9.0), ('part-time position', 4.0), ('online bidders', 4.0), ('project basis', 3.5), ('project', 1.5)]\n"
     ]
    },
    {
     "name": "stdout",
     "output_type": "stream",
     "text": [
      "[('testing required\\r\\n----------------------------\\r\\n1', 8.333333333333334), ('test script preparation', 8.0), ('mobile app testing\\r\\n4', 7.333333333333334), ('mobile app', 5.0), ('current job\\r\\n2', 4.0)]\n"
     ]
    },
    {
     "name": "stdout",
     "output_type": "stream",
     "text": [
      "[('quality check partial bg', 14.0), ('realistic background design artists', 12.866666666666667), ('long term basis', 9.0), ('multiple pre-production artist', 9.0), ('previous work link', 9.0)]\n"
     ]
    },
    {
     "name": "stdout",
     "output_type": "stream",
     "text": [
      "[('part time jobs-simple online jobs', 20.833333333333332), ('online data entry jobs', 16.333333333333332), ('online part time jobs', 15.833333333333332), ('offer genuine extra income', 14.666666666666666), ('part time jobs', 11.5)]\n"
     ]
    },
    {
     "name": "stdout",
     "output_type": "stream",
     "text": [
      "[('part time jobs-simple online jobs', 20.833333333333332), ('online data entry jobs', 16.333333333333332), ('online part time jobs', 15.833333333333332), ('offer genuine extra income', 14.666666666666666), ('part time jobs', 11.5)]\n"
     ]
    },
    {
     "name": "stdout",
     "output_type": "stream",
     "text": [
      "[('part time jobs-simple online jobs', 20.833333333333332), ('online data entry jobs', 16.333333333333332), ('online part time jobs', 15.833333333333332), ('offer genuine extra income', 14.666666666666666), ('part time jobs', 11.5)]\n"
     ]
    },
    {
     "name": "stdout",
     "output_type": "stream",
     "text": [
      "[('part time jobs-simple online jobs', 20.833333333333332), ('online data entry jobs', 16.333333333333332), ('online part time jobs', 15.833333333333332), ('offer genuine extra income', 14.666666666666666), ('part time jobs', 11.5)]\n"
     ]
    },
    {
     "name": "stdout",
     "output_type": "stream",
     "text": [
      "[('part time jobs-simple online jobs', 20.833333333333332), ('online data entry jobs', 16.333333333333332), ('online part time jobs', 15.833333333333332), ('offer genuine extra income', 14.666666666666666), ('part time jobs', 11.5)]\n"
     ]
    },
    {
     "name": "stdout",
     "output_type": "stream",
     "text": [
      "[('part time jobs-simple online jobs', 20.833333333333332), ('online data entry jobs', 16.333333333333332), ('online part time jobs', 15.833333333333332), ('offer genuine extra income', 14.666666666666666), ('part time jobs', 11.5)]\n"
     ]
    },
    {
     "name": "stdout",
     "output_type": "stream",
     "text": [
      "[('part time jobs-simple online jobs', 20.833333333333332), ('online data entry jobs', 16.333333333333332), ('online part time jobs', 15.833333333333332), ('offer genuine extra income', 14.666666666666666), ('part time jobs', 11.5)]\n"
     ]
    },
    {
     "name": "stdout",
     "output_type": "stream",
     "text": [
      "[('12-15 hours ensuring utmost quality', 19.6), ('-------------------------------------------------------------------------------\\radditional information added', 16.0), ('learned writing error free', 14.5), ('experienced content writers', 9.0), ('high quality content', 8.6)]\n"
     ]
    },
    {
     "name": "stdout",
     "output_type": "stream",
     "text": [
      "[('noida guys', 3.5), ('noida', 1.5), ('gmail', 1.0), ('completing', 1.0), ('bid', 1.0)]\n"
     ]
    },
    {
     "name": "stdout",
     "output_type": "stream",
     "text": [
      "[('topics\\r\\n\\r\\ndetailed topic description\\r\\n1', 16.0), ('data warehousing concepts', 9.0), ('data warehousing concepts\\r\\n2', 9.0), ('create 100 assessment questions', 9.0), ('oracle bi tool', 8.6)]\n"
     ]
    },
    {
     "name": "stdout",
     "output_type": "stream",
     "text": [
      "[('expected \\r\\r-------------------------------------------------------------------------------\\radditional information added', 25.0), ('refined content based multiple articles', 24.0), ('states andhra pradesh', 8.0), ('2017\\r\\rcontent writers', 6.0), ('madhya pradesh', 4.666666666666666)]\n"
     ]
    },
    {
     "name": "stdout",
     "output_type": "stream",
     "text": [
      "[('energetic female marketing professional', 16.0), ('upcoming women fashion brand', 16.0), ('conduct market research', 9.0), ('shopping locations', 4.0), ('distribute brochure', 4.0)]\n"
     ]
    },
    {
     "name": "stdout",
     "output_type": "stream",
     "text": [
      "[('1 pm india time', 9.0), ('attached newsletter design', 7.8), ('complete responsive html', 7.0), ('simple project', 4.0), ('mobile friendly', 4.0)]\n"
     ]
    },
    {
     "name": "stdout",
     "output_type": "stream",
     "text": [
      "[('part time work basis', 14.000000000000002), ('part time basis', 10.0), ('wordpress\\r\\ndatabase knowledge', 8.333333333333334), ('wordpress site', 4.333333333333334), ('minimum experience', 4.0)]\n"
     ]
    },
    {
     "name": "stdout",
     "output_type": "stream",
     "text": [
      "[('start upto 4', 4.0), ('shopify stores', 4.0), ('2-3 days', 4.0), ('layout', 1.0), ('configure', 1.0)]\n"
     ]
    },
    {
     "name": "stdout",
     "output_type": "stream",
     "text": [
      "[('good pay guranteed', 9.0), ('good writing skills', 8.0), ('goold keywords', 4.0), ('full understanding', 4.0), ('quality work', 4.0)]\n"
     ]
    },
    {
     "name": "stdout",
     "output_type": "stream",
     "text": [
      "[('highly analytical growth hacker', 15.333333333333334), ('generate quality traffic', 9.0), ('drive consumer insights', 9.0), ('full/part time\\r\\n\\r\\nsalary', 8.333333333333334), ('customer acquisition initiatives', 7.9)]\n"
     ]
    },
    {
     "name": "stdout",
     "output_type": "stream",
     "text": [
      "[('telemarketing person', 4.0), ('smart person', 4.0), ('taking followup', 4.0), ('thing related', 4.0), ('ecommerce industry', 4.0)]\n"
     ]
    },
    {
     "name": "stdout",
     "output_type": "stream",
     "text": [
      "[('product promotion video', 9.0), ('multimedia animator', 4.0), ('creating', 1.0)]\n"
     ]
    },
    {
     "name": "stdout",
     "output_type": "stream",
     "text": [
      "[('professional punjabi style high quality', 25.0), ('blue ray format', 8.5), ('mts format', 4.5), ('harnek singh', 4.0), ('whats app', 4.0)]\n"
     ]
    },
    {
     "name": "stdout",
     "output_type": "stream",
     "text": [
      "[('customised e-commerce order management solution', 25.0), ('fedex bluedart indian post', 13.5), ('fedex api', 5.0), ('shipping labels', 4.0), ('bluedart', 2.5)]\n"
     ]
    },
    {
     "name": "stdout",
     "output_type": "stream",
     "text": [
      "[('interested', 1.0), ('urgent', 1.0), ('apply', 1.0)]\n"
     ]
    },
    {
     "name": "stdout",
     "output_type": "stream",
     "text": [
      "[('reusable php modules\\r\\n* integrate common third-party apis', 41.666666666666664), ('integrating third-party payment gateways', 17.5), ('web technologies including html', 14.75), ('live server\\r\\n* build efficient', 14.666666666666666), ('front-end developers\\r\\n* develop', 9.0)]\n"
     ]
    },
    {
     "name": "stdout",
     "output_type": "stream",
     "text": [
      "[('work email finding job', 15.5), ('catch contact email', 9.5), ('pay 300rs', 4.0), ('rate', 1.0), ('site', 1.0)]\n"
     ]
    },
    {
     "name": "stdout",
     "output_type": "stream",
     "text": [
      "[('small electric car project', 16.0), ('kindly submit', 4.0), ('dpr made', 4.0), ('exhaustive one-', 4.0), ('2/3 days', 4.0)]\n"
     ]
    },
    {
     "name": "stdout",
     "output_type": "stream",
     "text": [
      "[('linear system based', 9.0), ('short triangular pulse', 8.5), ('modeling wave propagation', 8.5), ('spectral element method', 8.0), ('spectral method', 5.0)]\n"
     ]
    },
    {
     "name": "stdout",
     "output_type": "stream",
     "text": [
      "[('android & windows phone', 9.0), ('quality assurance & testing', 9.0), ('digital designing services', 8.0), ('top rank', 4.0), ('open source', 4.0)]\n"
     ]
    },
    {
     "name": "stdout",
     "output_type": "stream",
     "text": [
      "[('website \\r\\n\\nemergency services app', 13.0), ('emergency services app', 10.5), ('website', 2.5)]\n"
     ]
    },
    {
     "name": "stdout",
     "output_type": "stream",
     "text": [
      "[('long term basis', 9.0), ('social media feeds', 9.0), ('add blog section', 9.0), ('approx charges', 4.0), ('retainership model', 4.0)]\n"
     ]
    },
    {
     "name": "stdout",
     "output_type": "stream",
     "text": [
      "[('prepare 50 assessment/mcq questions', 9.0), ('navigation developer', 3.5), ('navigation', 1.5), ('consultants/trainers', 1.0), ('hmi\\r\\n3', 1.0)]\n"
     ]
    },
    {
     "name": "stdout",
     "output_type": "stream",
     "text": [
      "[('prepare 50 assessment/mcq questions', 9.0), ('altova xmlspy', 4.0), ('solution designer', 4.0), ('freelance consultants', 4.0), ('uml\\r\\n2', 1.0)]\n"
     ]
    },
    {
     "name": "stdout",
     "output_type": "stream",
     "text": [
      "[('code deployment\\r\\nconfig management\\r\\nserver monitoring', 36.0), ('support\\r\\nhttps implementation\\r\\nmobile app deployment', 36.0), ('log analysis\\r\\nenvironment set', 13.5), ('maintenance\\r\\nvm set', 9.5), ('excellent aws experience', 9.0)]\n"
     ]
    },
    {
     "name": "stdout",
     "output_type": "stream",
     "text": [
      "[('hiring content strategists/ writers', 15.0), ('work full time', 9.0), ('good research skills', 8.5), ('effective writing style', 8.333333333333334), ('creative content', 5.0)]\n"
     ]
    },
    {
     "name": "stdout",
     "output_type": "stream",
     "text": [
      "[('translate technical terms', 9.0), ('startup company website', 8.5), ('company overview', 4.5), ('content writing', 4.0), ('homepage contents', 4.0)]\n"
     ]
    },
    {
     "name": "stdout",
     "output_type": "stream",
     "text": [
      "[('manoj shinh- don', 9.0), ('fund escrow', 4.0), ('paypal payment', 4.0), ('cheated', 1.0), ('work', 1.0)]\n"
     ]
    },
    {
     "name": "stdout",
     "output_type": "stream",
     "text": [
      "[('writing fitness product reviews', 10.0), ('dedicated freelance writer', 8.5), ('sample 500 word article', 8.25), ('good quality article', 7.75), ('fitness niche', 5.0)]\n"
     ]
    },
    {
     "name": "stdout",
     "output_type": "stream",
     "text": [
      "[('startup company', 4.0), ('business plan', 4.0), ('write', 1.0)]\n"
     ]
    },
    {
     "name": "stdout",
     "output_type": "stream",
     "text": [
      "[('apa 6th edition referencing style', 25.0), ('econ6001 economic principles\\r\\n\\r\\n\\r\\ncontext', 16.0), ('theory underlining graph 2 differ', 13.714285714285714), ('graph 1identify dependent variable', 12.714285714285715), ('source iscorrectly attributed', 8.0)]\n"
     ]
    },
    {
     "ename": "KeyboardInterrupt",
     "evalue": "",
     "traceback": [
      "\u001b[1;31m---------------------------------------------------------------------------\u001b[0m",
      "\u001b[1;31mKeyboardInterrupt\u001b[0m                         Traceback (most recent call last)",
      "\u001b[1;32m<ipython-input-8-da121b60191c>\u001b[0m in \u001b[0;36m<module>\u001b[1;34m()\u001b[0m\n\u001b[0;32m      7\u001b[0m     \u001b[0mpredicted\u001b[0m \u001b[1;33m=\u001b[0m \u001b[0mv\u001b[0m\u001b[1;33m.\u001b[0m\u001b[0mrun\u001b[0m\u001b[1;33m(\u001b[0m\u001b[0mr\u001b[0m\u001b[1;33m)\u001b[0m\u001b[1;33m\u001b[0m\u001b[0m\n\u001b[0;32m      8\u001b[0m     \u001b[0mprint\u001b[0m\u001b[1;33m(\u001b[0m\u001b[0mpredicted\u001b[0m\u001b[1;33m[\u001b[0m\u001b[1;36m0\u001b[0m\u001b[1;33m:\u001b[0m\u001b[1;36m5\u001b[0m\u001b[1;33m]\u001b[0m\u001b[1;33m)\u001b[0m\u001b[1;33m\u001b[0m\u001b[0m\n\u001b[1;32m----> 9\u001b[1;33m     \u001b[0mtime\u001b[0m\u001b[1;33m.\u001b[0m\u001b[0msleep\u001b[0m\u001b[1;33m(\u001b[0m\u001b[1;36m9\u001b[0m\u001b[1;33m)\u001b[0m\u001b[1;33m\u001b[0m\u001b[0m\n\u001b[0m",
      "\u001b[1;31mKeyboardInterrupt\u001b[0m: "
     ],
     "output_type": "error"
    }
   ],
   "source": [
    "predicted_data = all_data[-7:-1]\n",
    "\n",
    "import time\n",
    "\n",
    "for i in all_data:\n",
    "    r = i['details']\n",
    "    predicted = v.run(r)\n",
    "    print(predicted[0:5])\n",
    "    time.sleep(9)"
   ]
  },
  {
   "cell_type": "code",
   "execution_count": 6,
   "metadata": {},
   "outputs": [
    {
     "ename": "NameError",
     "evalue": "name 'all_data' is not defined",
     "traceback": [
      "\u001b[1;31m---------------------------------------------------------------------------\u001b[0m",
      "\u001b[1;31mNameError\u001b[0m                                 Traceback (most recent call last)",
      "\u001b[1;32m<ipython-input-6-a2df52e643c3>\u001b[0m in \u001b[0;36m<module>\u001b[1;34m()\u001b[0m\n\u001b[1;32m----> 1\u001b[1;33m \u001b[0mprint\u001b[0m\u001b[1;33m(\u001b[0m\u001b[0mlen\u001b[0m\u001b[1;33m(\u001b[0m\u001b[0mall_data\u001b[0m\u001b[1;33m)\u001b[0m\u001b[1;33m)\u001b[0m\u001b[1;33m\u001b[0m\u001b[0m\n\u001b[0m",
      "\u001b[1;31mNameError\u001b[0m: name 'all_data' is not defined"
     ],
     "output_type": "error"
    }
   ],
   "source": [
    ""
   ]
  },
  {
   "cell_type": "code",
   "execution_count": 6,
   "metadata": {},
   "outputs": [
    {
     "name": "stdout",
     "output_type": "stream",
     "text": [
      "this is cleaned\n\n...\nHi, I need FreeLancer/ FullTime  Web Designer / UI designer for website and developmenet work for my software. Preferably from Hyderabad. The software is built on PHP/Codeignitor. I have to add some new  modules and change the existing design. I want the web developer to sync his ideas  on UI/Design with my PhP developer .My website is www.healthfox.com. \n\nthis is \n"
     ]
    }
   ],
   "source": [
    ""
   ]
  },
  {
   "cell_type": "code",
   "execution_count": null,
   "metadata": {},
   "outputs": [],
   "source": [
    ""
   ]
  }
 ],
 "metadata": {
  "kernelspec": {
   "display_name": "Python 2",
   "language": "python",
   "name": "python2"
  },
  "language_info": {
   "codemirror_mode": {
    "name": "ipython",
    "version": 2
   },
   "file_extension": ".py",
   "mimetype": "text/x-python",
   "name": "python",
   "nbconvert_exporter": "python",
   "pygments_lexer": "ipython2",
   "version": "2.7.6"
  }
 },
 "nbformat": 4,
 "nbformat_minor": 0
}
